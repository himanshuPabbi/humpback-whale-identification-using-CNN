{
 "cells": [
  {
   "cell_type": "code",
   "execution_count": 1,
   "id": "88479af4",
   "metadata": {},
   "outputs": [],
   "source": [
    "import numpy as np # linear algebra\n",
    "import pandas as pd # data processing, CSV file I/O (e.g. pd.read_csv)\n",
    "import matplotlib.pyplot as plt\n",
    "import seaborn as sns\n",
    "from tensorflow.keras.preprocessing.image import load_img\n",
    "\n",
    "import os\n",
    "\n",
    "# import warnings\n",
    "import warnings\n",
    "# filter warnings\n",
    "warnings.filterwarnings('ignore')"
   ]
  },
  {
   "cell_type": "code",
   "execution_count": 2,
   "id": "ea0555b0",
   "metadata": {},
   "outputs": [],
   "source": [
    "train = pd.read_csv(\"Documents/humpback-whale-identification/train.csv\")\n"
   ]
  },
  {
   "cell_type": "code",
   "execution_count": 3,
   "id": "6cbca585",
   "metadata": {},
   "outputs": [
    {
     "data": {
      "text/html": [
       "<div>\n",
       "<style scoped>\n",
       "    .dataframe tbody tr th:only-of-type {\n",
       "        vertical-align: middle;\n",
       "    }\n",
       "\n",
       "    .dataframe tbody tr th {\n",
       "        vertical-align: top;\n",
       "    }\n",
       "\n",
       "    .dataframe thead th {\n",
       "        text-align: right;\n",
       "    }\n",
       "</style>\n",
       "<table border=\"1\" class=\"dataframe\">\n",
       "  <thead>\n",
       "    <tr style=\"text-align: right;\">\n",
       "      <th></th>\n",
       "      <th>Image</th>\n",
       "      <th>Id</th>\n",
       "    </tr>\n",
       "  </thead>\n",
       "  <tbody>\n",
       "    <tr>\n",
       "      <th>0</th>\n",
       "      <td>0000e88ab.jpg</td>\n",
       "      <td>w_f48451c</td>\n",
       "    </tr>\n",
       "    <tr>\n",
       "      <th>1</th>\n",
       "      <td>0001f9222.jpg</td>\n",
       "      <td>w_c3d896a</td>\n",
       "    </tr>\n",
       "    <tr>\n",
       "      <th>2</th>\n",
       "      <td>00029d126.jpg</td>\n",
       "      <td>w_20df2c5</td>\n",
       "    </tr>\n",
       "    <tr>\n",
       "      <th>3</th>\n",
       "      <td>00050a15a.jpg</td>\n",
       "      <td>new_whale</td>\n",
       "    </tr>\n",
       "    <tr>\n",
       "      <th>4</th>\n",
       "      <td>0005c1ef8.jpg</td>\n",
       "      <td>new_whale</td>\n",
       "    </tr>\n",
       "    <tr>\n",
       "      <th>...</th>\n",
       "      <td>...</td>\n",
       "      <td>...</td>\n",
       "    </tr>\n",
       "    <tr>\n",
       "      <th>25356</th>\n",
       "      <td>ffef89eed.jpg</td>\n",
       "      <td>w_9c506f6</td>\n",
       "    </tr>\n",
       "    <tr>\n",
       "      <th>25357</th>\n",
       "      <td>fff7faf61.jpg</td>\n",
       "      <td>w_9cf0388</td>\n",
       "    </tr>\n",
       "    <tr>\n",
       "      <th>25358</th>\n",
       "      <td>fff9002e0.jpg</td>\n",
       "      <td>w_bd1c3d5</td>\n",
       "    </tr>\n",
       "    <tr>\n",
       "      <th>25359</th>\n",
       "      <td>fffcde6fe.jpg</td>\n",
       "      <td>w_9f30885</td>\n",
       "    </tr>\n",
       "    <tr>\n",
       "      <th>25360</th>\n",
       "      <td>fffde072b.jpg</td>\n",
       "      <td>new_whale</td>\n",
       "    </tr>\n",
       "  </tbody>\n",
       "</table>\n",
       "<p>25361 rows × 2 columns</p>\n",
       "</div>"
      ],
      "text/plain": [
       "               Image         Id\n",
       "0      0000e88ab.jpg  w_f48451c\n",
       "1      0001f9222.jpg  w_c3d896a\n",
       "2      00029d126.jpg  w_20df2c5\n",
       "3      00050a15a.jpg  new_whale\n",
       "4      0005c1ef8.jpg  new_whale\n",
       "...              ...        ...\n",
       "25356  ffef89eed.jpg  w_9c506f6\n",
       "25357  fff7faf61.jpg  w_9cf0388\n",
       "25358  fff9002e0.jpg  w_bd1c3d5\n",
       "25359  fffcde6fe.jpg  w_9f30885\n",
       "25360  fffde072b.jpg  new_whale\n",
       "\n",
       "[25361 rows x 2 columns]"
      ]
     },
     "execution_count": 3,
     "metadata": {},
     "output_type": "execute_result"
    }
   ],
   "source": [
    "train"
   ]
  },
  {
   "cell_type": "code",
   "execution_count": 4,
   "id": "0093e332",
   "metadata": {},
   "outputs": [
    {
     "name": "stdout",
     "output_type": "stream",
     "text": [
      "<class 'pandas.core.frame.DataFrame'>\n",
      "RangeIndex: 25361 entries, 0 to 25360\n",
      "Data columns (total 2 columns):\n",
      " #   Column  Non-Null Count  Dtype \n",
      "---  ------  --------------  ----- \n",
      " 0   Image   25361 non-null  object\n",
      " 1   Id      25361 non-null  object\n",
      "dtypes: object(2)\n",
      "memory usage: 396.4+ KB\n"
     ]
    }
   ],
   "source": [
    "train.info()"
   ]
  },
  {
   "cell_type": "code",
   "execution_count": 5,
   "id": "d9b5f2e1",
   "metadata": {},
   "outputs": [
    {
     "data": {
      "text/html": [
       "<div>\n",
       "<style scoped>\n",
       "    .dataframe tbody tr th:only-of-type {\n",
       "        vertical-align: middle;\n",
       "    }\n",
       "\n",
       "    .dataframe tbody tr th {\n",
       "        vertical-align: top;\n",
       "    }\n",
       "\n",
       "    .dataframe thead th {\n",
       "        text-align: right;\n",
       "    }\n",
       "</style>\n",
       "<table border=\"1\" class=\"dataframe\">\n",
       "  <thead>\n",
       "    <tr style=\"text-align: right;\">\n",
       "      <th></th>\n",
       "      <th>Image</th>\n",
       "      <th>Id</th>\n",
       "    </tr>\n",
       "  </thead>\n",
       "  <tbody>\n",
       "    <tr>\n",
       "      <th>count</th>\n",
       "      <td>25361</td>\n",
       "      <td>25361</td>\n",
       "    </tr>\n",
       "    <tr>\n",
       "      <th>unique</th>\n",
       "      <td>25361</td>\n",
       "      <td>5005</td>\n",
       "    </tr>\n",
       "    <tr>\n",
       "      <th>top</th>\n",
       "      <td>0000e88ab.jpg</td>\n",
       "      <td>new_whale</td>\n",
       "    </tr>\n",
       "    <tr>\n",
       "      <th>freq</th>\n",
       "      <td>1</td>\n",
       "      <td>9664</td>\n",
       "    </tr>\n",
       "  </tbody>\n",
       "</table>\n",
       "</div>"
      ],
      "text/plain": [
       "                Image         Id\n",
       "count           25361      25361\n",
       "unique          25361       5005\n",
       "top     0000e88ab.jpg  new_whale\n",
       "freq                1       9664"
      ]
     },
     "execution_count": 5,
     "metadata": {},
     "output_type": "execute_result"
    }
   ],
   "source": [
    "train.describe()"
   ]
  },
  {
   "cell_type": "markdown",
   "id": "11f3414f",
   "metadata": {},
   "source": [
    "# There are 5005 different classes in our dataset"
   ]
  },
  {
   "cell_type": "code",
   "execution_count": 6,
   "id": "1fa25b12",
   "metadata": {},
   "outputs": [
    {
     "data": {
      "text/plain": [
       "(25361, 2)"
      ]
     },
     "execution_count": 6,
     "metadata": {},
     "output_type": "execute_result"
    }
   ],
   "source": [
    "train.shape"
   ]
  },
  {
   "cell_type": "markdown",
   "id": "87ea39d0",
   "metadata": {},
   "source": [
    "# We need to identify the Id of whale. So, our output variable will be Id. We need to seperate feature columns and output column."
   ]
  },
  {
   "cell_type": "code",
   "execution_count": 7,
   "id": "9ff85e0b",
   "metadata": {},
   "outputs": [
    {
     "data": {
      "text/plain": [
       "0    w_f48451c\n",
       "1    w_c3d896a\n",
       "2    w_20df2c5\n",
       "3    new_whale\n",
       "4    new_whale\n",
       "Name: Id, dtype: object"
      ]
     },
     "execution_count": 7,
     "metadata": {},
     "output_type": "execute_result"
    }
   ],
   "source": [
    "# put labels into y_train variable\n",
    "y_train = train[\"Id\"]\n",
    "# Drop the 'Id' column\n",
    "xtrain = train.drop(labels = [\"Id\"], axis = 1)\n",
    "y_train.head()"
   ]
  },
  {
   "cell_type": "code",
   "execution_count": 8,
   "id": "7567f81b",
   "metadata": {},
   "outputs": [
    {
     "data": {
      "text/plain": [
       "Image    0\n",
       "Id       0\n",
       "dtype: int64"
      ]
     },
     "execution_count": 8,
     "metadata": {},
     "output_type": "execute_result"
    }
   ],
   "source": [
    "train.isnull().sum()"
   ]
  },
  {
   "cell_type": "code",
   "execution_count": 9,
   "id": "9dae6f43",
   "metadata": {},
   "outputs": [],
   "source": [
    "# importing the libraries for image preprocessing\n",
    "from keras.preprocessing import image\n",
    "from keras.applications.imagenet_utils import preprocess_input\n",
    "from tensorflow.keras.preprocessing.image import load_img\n",
    "from tensorflow.keras.preprocessing.image import img_to_array\n"
   ]
  },
  {
   "cell_type": "code",
   "execution_count": 10,
   "id": "adab8143",
   "metadata": {},
   "outputs": [],
   "source": [
    "def prepareImages(train, shape, path):\n",
    "    \n",
    "    x_train = np.zeros((shape, 100, 100, 3))\n",
    "    count = 0\n",
    "    \n",
    "    for fig in train['Image']:\n",
    "        \n",
    "        #load images into images of size 100x100x3\n",
    "        img = load_img(\"Documents/humpback-whale-identification/\"+path+\"/\"+fig, target_size=(100,100, 3))\n",
    "        x = img_to_array(img)\n",
    "        x = preprocess_input(x)\n",
    "\n",
    "        x_train[count] = x\n",
    "        if (count%500 == 0):\n",
    "            print(\"Processing image: \", count+1, \", \", fig)\n",
    "        count += 1\n",
    "    \n",
    "    return x_train"
   ]
  },
  {
   "cell_type": "code",
   "execution_count": 11,
   "id": "1a7f0cca",
   "metadata": {},
   "outputs": [
    {
     "name": "stdout",
     "output_type": "stream",
     "text": [
      "Processing image:  1 ,  0000e88ab.jpg\n",
      "Processing image:  501 ,  04c72257b.jpg\n",
      "Processing image:  1001 ,  09cacb84d.jpg\n",
      "Processing image:  1501 ,  0ef961892.jpg\n",
      "Processing image:  2001 ,  141b56a1a.jpg\n",
      "Processing image:  2501 ,  199a417aa.jpg\n",
      "Processing image:  3001 ,  1ec170983.jpg\n",
      "Processing image:  3501 ,  23f084b93.jpg\n",
      "Processing image:  4001 ,  29163ad0b.jpg\n",
      "Processing image:  4501 ,  2e0fab120.jpg\n",
      "Processing image:  5001 ,  3347515d9.jpg\n",
      "Processing image:  5501 ,  3842d71dc.jpg\n",
      "Processing image:  6001 ,  3d7f4c7d5.jpg\n",
      "Processing image:  6501 ,  425f763ca.jpg\n",
      "Processing image:  7001 ,  4714400cd.jpg\n",
      "Processing image:  7501 ,  4c082fbdf.jpg\n",
      "Processing image:  8001 ,  50c683e23.jpg\n",
      "Processing image:  8501 ,  560d986ad.jpg\n",
      "Processing image:  9001 ,  5b68c83ed.jpg\n",
      "Processing image:  9501 ,  60410f111.jpg\n",
      "Processing image:  10001 ,  654951f81.jpg\n",
      "Processing image:  10501 ,  6a572256c.jpg\n",
      "Processing image:  11001 ,  6f96f55b6.jpg\n",
      "Processing image:  11501 ,  74da2b511.jpg\n",
      "Processing image:  12001 ,  7989d9a27.jpg\n",
      "Processing image:  12501 ,  7e5aa2d8a.jpg\n",
      "Processing image:  13001 ,  832382cfb.jpg\n",
      "Processing image:  13501 ,  87f6c0a15.jpg\n",
      "Processing image:  14001 ,  8cfc22e5d.jpg\n",
      "Processing image:  14501 ,  91dcfedcd.jpg\n",
      "Processing image:  15001 ,  97079398e.jpg\n",
      "Processing image:  15501 ,  9c2ad64a9.jpg\n",
      "Processing image:  16001 ,  a11956dff.jpg\n",
      "Processing image:  16501 ,  a5f9ffe86.jpg\n",
      "Processing image:  17001 ,  aaf1a967b.jpg\n",
      "Processing image:  17501 ,  af9a1ffc6.jpg\n",
      "Processing image:  18001 ,  b4e02531d.jpg\n",
      "Processing image:  18501 ,  ba2355ca6.jpg\n",
      "Processing image:  19001 ,  bf60e7fed.jpg\n",
      "Processing image:  19501 ,  c49f39ce3.jpg\n",
      "Processing image:  20001 ,  c960111d0.jpg\n",
      "Processing image:  20501 ,  ce7984d8a.jpg\n",
      "Processing image:  21001 ,  d38efaec9.jpg\n",
      "Processing image:  21501 ,  d831d28ee.jpg\n",
      "Processing image:  22001 ,  dd3ca2387.jpg\n",
      "Processing image:  22501 ,  e288d66cf.jpg\n",
      "Processing image:  23001 ,  e7cc793db.jpg\n",
      "Processing image:  23501 ,  ec8c7229d.jpg\n",
      "Processing image:  24001 ,  f1b850552.jpg\n",
      "Processing image:  24501 ,  f6af8a4b8.jpg\n",
      "Processing image:  25001 ,  fc09f2302.jpg\n"
     ]
    }
   ],
   "source": [
    "x_train = prepareImages(train, train.shape[0], \"train\")\n"
   ]
  },
  {
   "cell_type": "code",
   "execution_count": 12,
   "id": "f7392fc0",
   "metadata": {},
   "outputs": [
    {
     "name": "stdout",
     "output_type": "stream",
     "text": [
      "xtrain shape:  (25361, 100, 100, 3)\n"
     ]
    }
   ],
   "source": [
    "x_train = x_train / 255.0 \n",
    "# rescaling the dataset \n",
    "# dividing an image by 255 simply rescales the image from 0-255 to 0-1. \n",
    "# (Converting it to float from int makes computation convenient too) \n",
    "print(\"xtrain shape: \",x_train.shape)"
   ]
  },
  {
   "cell_type": "code",
   "execution_count": 13,
   "id": "619f4f15",
   "metadata": {},
   "outputs": [
    {
     "data": {
      "image/png": "[encoded data removed]",
      "text/plain": [
       "<Figure size 432x288 with 1 Axes>"
      ]
     },
     "metadata": {
      "needs_background": "light"
     },
     "output_type": "display_data"
    }
   ],
   "source": [
    "# Checking example input image\n",
    "plt.imshow(x_train[0][:,:,0], cmap=\"gray\")\n",
    "plt.title(plt.title(train.iloc[0,0]))\n",
    "plt.axis(\"off\")\n",
    "plt.show()"
   ]
  },
  {
   "cell_type": "code",
   "execution_count": 14,
   "id": "aaa927b8",
   "metadata": {},
   "outputs": [],
   "source": [
    "from sklearn.preprocessing import LabelEncoder\n",
    "label_encoder = LabelEncoder()"
   ]
  },
  {
   "cell_type": "code",
   "execution_count": 15,
   "id": "8041f2ea",
   "metadata": {},
   "outputs": [],
   "source": [
    "y_train = label_encoder.fit_transform(y_train)\n"
   ]
  },
  {
   "cell_type": "code",
   "execution_count": 16,
   "id": "400fa223",
   "metadata": {},
   "outputs": [
    {
     "data": {
      "text/plain": [
       "array([4786, 3808,  662,    0,    0,    0, 4315,    0, 1929, 3237])"
      ]
     },
     "execution_count": 16,
     "metadata": {},
     "output_type": "execute_result"
    }
   ],
   "source": [
    "y_train[0:10]  "
   ]
  },
  {
   "cell_type": "code",
   "execution_count": 17,
   "id": "0d157013",
   "metadata": {},
   "outputs": [
    {
     "data": {
      "text/plain": [
       "(25361,)"
      ]
     },
     "execution_count": 17,
     "metadata": {},
     "output_type": "execute_result"
    }
   ],
   "source": [
    "y_train.shape\n"
   ]
  },
  {
   "cell_type": "code",
   "execution_count": 18,
   "id": "545ec8d9",
   "metadata": {},
   "outputs": [],
   "source": [
    "# convert to one-hot-encoding\n",
    "# we got 5005 classes from the function train.Id.describe()\n",
    "\n",
    "from keras.utils.np_utils import to_categorical\n",
    "y_train = to_categorical(y_train, num_classes = 5005)"
   ]
  },
  {
   "cell_type": "code",
   "execution_count": 19,
   "id": "97bcbc9d",
   "metadata": {},
   "outputs": [
    {
     "data": {
      "text/plain": [
       "array([[0., 0., 0., ..., 0., 0., 0.],\n",
       "       [0., 0., 0., ..., 0., 0., 0.],\n",
       "       [0., 0., 0., ..., 0., 0., 0.],\n",
       "       ...,\n",
       "       [0., 0., 0., ..., 0., 0., 0.],\n",
       "       [0., 0., 0., ..., 0., 0., 0.],\n",
       "       [1., 0., 0., ..., 0., 0., 0.]], dtype=float32)"
      ]
     },
     "execution_count": 19,
     "metadata": {},
     "output_type": "execute_result"
    }
   ],
   "source": [
    "y_train \n"
   ]
  },
  {
   "cell_type": "code",
   "execution_count": 21,
   "id": "9a7fe579",
   "metadata": {},
   "outputs": [],
   "source": [
    "from keras.utils.np_utils import to_categorical # convert to one-hot-encoding\n",
    "from keras.models import Sequential # to create a cnn model\n",
    "from keras.layers import Dense, Dropout, Flatten, Conv2D, MaxPool2D\n",
    "from keras.optimizers import RMSprop,Adam\n",
    "from keras.layers import BatchNormalization\n",
    "from keras.preprocessing.image import ImageDataGenerator\n",
    "from keras.callbacks import ReduceLROnPlateau\n",
    "\n",
    "model = Sequential()\n",
    "\n",
    "model.add(Conv2D(filters = 16, kernel_size = (3,3), padding = 'Same', activation = 'relu', input_shape = (100,100,3)))\n",
    "model.add(Conv2D(filters = 16, kernel_size = (3,3), padding = 'Same', activation = 'relu'))\n",
    "model.add(MaxPool2D(pool_size = (2,2)))\n",
    "model.add(BatchNormalization())\n",
    "\n",
    "model.add(Conv2D(filters = 32, kernel_size = (3,3), padding = 'Same', activation = 'relu'))\n",
    "model.add(Conv2D(filters = 32, kernel_size = (3,3), padding = 'Same', activation = 'relu'))\n",
    "model.add(MaxPool2D(pool_size = (2,2), strides=(2,2)))\n",
    "model.add(Dropout(0.25))\n",
    "\n",
    "model.add(Conv2D(filters = 64, kernel_size = (3,3), padding = 'Same', activation = 'relu'))\n",
    "model.add(Conv2D(filters = 64, kernel_size = (3,3), padding = 'Same', activation = 'relu'))\n",
    "model.add(MaxPool2D(pool_size = (2,2), strides=(2,2)))\n",
    "model.add(BatchNormalization())\n",
    "\n",
    "# fully connected\n",
    "model.add(Flatten())\n",
    "model.add(Dense(256, activation = 'relu'))\n",
    "model.add(BatchNormalization())\n",
    "model.add(Dense(y_train.shape[1], activation = \"softmax\"))"
   ]
  },
  {
   "cell_type": "code",
   "execution_count": 22,
   "id": "b34e8a3b",
   "metadata": {},
   "outputs": [
    {
     "name": "stdout",
     "output_type": "stream",
     "text": [
      "Model: \"sequential\"\n",
      "_________________________________________________________________\n",
      " Layer (type)                Output Shape              Param #   \n",
      "=================================================================\n",
      " conv2d (Conv2D)             (None, 100, 100, 16)      448       \n",
      "                                                                 \n",
      " conv2d_1 (Conv2D)           (None, 100, 100, 16)      2320      \n",
      "                                                                 \n",
      " max_pooling2d (MaxPooling2D  (None, 50, 50, 16)       0         \n",
      " )                                                               \n",
      "                                                                 \n",
      " batch_normalization (BatchN  (None, 50, 50, 16)       64        \n",
      " ormalization)                                                   \n",
      "                                                                 \n",
      " conv2d_2 (Conv2D)           (None, 50, 50, 32)        4640      \n",
      "                                                                 \n",
      " conv2d_3 (Conv2D)           (None, 50, 50, 32)        9248      \n",
      "                                                                 \n",
      " max_pooling2d_1 (MaxPooling  (None, 25, 25, 32)       0         \n",
      " 2D)                                                             \n",
      "                                                                 \n",
      " dropout (Dropout)           (None, 25, 25, 32)        0         \n",
      "                                                                 \n",
      " conv2d_4 (Conv2D)           (None, 25, 25, 64)        18496     \n",
      "                                                                 \n",
      " conv2d_5 (Conv2D)           (None, 25, 25, 64)        36928     \n",
      "                                                                 \n",
      " max_pooling2d_2 (MaxPooling  (None, 12, 12, 64)       0         \n",
      " 2D)                                                             \n",
      "                                                                 \n",
      " batch_normalization_1 (Batc  (None, 12, 12, 64)       256       \n",
      " hNormalization)                                                 \n",
      "                                                                 \n",
      " flatten (Flatten)           (None, 9216)              0         \n",
      "                                                                 \n",
      " dense (Dense)               (None, 256)               2359552   \n",
      "                                                                 \n",
      " batch_normalization_2 (Batc  (None, 256)              1024      \n",
      " hNormalization)                                                 \n",
      "                                                                 \n",
      " dense_1 (Dense)             (None, 5005)              1286285   \n",
      "                                                                 \n",
      "=================================================================\n",
      "Total params: 3,719,261\n",
      "Trainable params: 3,718,589\n",
      "Non-trainable params: 672\n",
      "_________________________________________________________________\n"
     ]
    }
   ],
   "source": [
    "model.summary()\n"
   ]
  },
  {
   "cell_type": "code",
   "execution_count": 23,
   "id": "732d4295",
   "metadata": {},
   "outputs": [],
   "source": [
    "optimizer = Adam(lr = 0.001, beta_1 = 0.9, beta_2 = 0.999)\n"
   ]
  },
  {
   "cell_type": "code",
   "execution_count": 24,
   "id": "3868cc8c",
   "metadata": {},
   "outputs": [],
   "source": [
    "learning_rate_reduction = ReduceLROnPlateau(monitor='val_acc', \n",
    "                                            patience=3, \n",
    "                                            verbose=1, \n",
    "                                            factor=0.5, \n",
    "                                            min_lr=0.00001)"
   ]
  },
  {
   "cell_type": "code",
   "execution_count": 25,
   "id": "ede72c33",
   "metadata": {},
   "outputs": [],
   "source": [
    "model.compile(optimizer = optimizer, loss = \"categorical_crossentropy\", metrics=[\"accuracy\"])"
   ]
  },
  {
   "cell_type": "code",
   "execution_count": 26,
   "id": "7f22b719",
   "metadata": {},
   "outputs": [],
   "source": [
    "# With data augmentation to prevent overfitting\n",
    "\n",
    "datagen = ImageDataGenerator(\n",
    "        featurewise_center=False,  # set input mean to 0 over the dataset\n",
    "        samplewise_center=False,  # set each sample mean to 0\n",
    "        featurewise_std_normalization=False,  # divide inputs by std of the dataset\n",
    "        samplewise_std_normalization=False,  # divide each input by its std\n",
    "        zca_whitening=False,  # apply ZCA whitening\n",
    "        rotation_range=10,  # randomly rotate images in the range (degrees, 0 to 180)\n",
    "        zoom_range = 0.1, # Randomly zoom image \n",
    "        width_shift_range=0.1,  # randomly shift images horizontally (fraction of total width)\n",
    "        height_shift_range=0.1,  # randomly shift images vertically (fraction of total height)\n",
    "        horizontal_flip=False,  # randomly flip images horizontally\n",
    "        vertical_flip=False)  # randomly flip images vertically\n",
    "\n",
    "\n",
    "datagen.fit(x_train)"
   ]
  },
  {
   "cell_type": "code",
   "execution_count": 27,
   "id": "f7195a8d",
   "metadata": {},
   "outputs": [],
   "source": [
    "epochs = 50  # for better result increase the number of epochs\n",
    "batch_size = 64"
   ]
  },
  {
   "cell_type": "code",
   "execution_count": 28,
   "id": "ae42de63",
   "metadata": {},
   "outputs": [
    {
     "name": "stdout",
     "output_type": "stream",
     "text": [
      "Epoch 1/50\n",
      "WARNING:tensorflow:Learning rate reduction is conditioned on metric `val_acc` which is not available. Available metrics are: loss,accuracy,lr\n",
      "396/396 - 812s - loss: 6.7359 - accuracy: 0.3276 - lr: 0.0010 - 812s/epoch - 2s/step\n",
      "Epoch 2/50\n",
      "WARNING:tensorflow:Learning rate reduction is conditioned on metric `val_acc` which is not available. Available metrics are: loss,accuracy,lr\n",
      "396/396 - 831s - loss: 5.3955 - accuracy: 0.3776 - lr: 0.0010 - 831s/epoch - 2s/step\n",
      "Epoch 3/50\n",
      "WARNING:tensorflow:Learning rate reduction is conditioned on metric `val_acc` which is not available. Available metrics are: loss,accuracy,lr\n",
      "396/396 - 210s - loss: 5.0107 - accuracy: 0.3776 - lr: 0.0010 - 210s/epoch - 531ms/step\n",
      "Epoch 4/50\n",
      "WARNING:tensorflow:Learning rate reduction is conditioned on metric `val_acc` which is not available. Available metrics are: loss,accuracy,lr\n",
      "396/396 - 190s - loss: 4.6954 - accuracy: 0.3779 - lr: 0.0010 - 190s/epoch - 480ms/step\n",
      "Epoch 5/50\n",
      "WARNING:tensorflow:Learning rate reduction is conditioned on metric `val_acc` which is not available. Available metrics are: loss,accuracy,lr\n",
      "396/396 - 193s - loss: 4.3890 - accuracy: 0.3779 - lr: 0.0010 - 193s/epoch - 487ms/step\n",
      "Epoch 6/50\n",
      "WARNING:tensorflow:Learning rate reduction is conditioned on metric `val_acc` which is not available. Available metrics are: loss,accuracy,lr\n",
      "396/396 - 191s - loss: 4.0737 - accuracy: 0.3801 - lr: 0.0010 - 191s/epoch - 484ms/step\n",
      "Epoch 7/50\n",
      "WARNING:tensorflow:Learning rate reduction is conditioned on metric `val_acc` which is not available. Available metrics are: loss,accuracy,lr\n",
      "396/396 - 214s - loss: 3.7505 - accuracy: 0.3849 - lr: 0.0010 - 214s/epoch - 541ms/step\n",
      "Epoch 8/50\n",
      "WARNING:tensorflow:Learning rate reduction is conditioned on metric `val_acc` which is not available. Available metrics are: loss,accuracy,lr\n",
      "396/396 - 219s - loss: 3.4195 - accuracy: 0.3879 - lr: 0.0010 - 219s/epoch - 552ms/step\n",
      "Epoch 9/50\n",
      "WARNING:tensorflow:Learning rate reduction is conditioned on metric `val_acc` which is not available. Available metrics are: loss,accuracy,lr\n",
      "396/396 - 215s - loss: 3.0985 - accuracy: 0.4031 - lr: 0.0010 - 215s/epoch - 542ms/step\n",
      "Epoch 10/50\n",
      "WARNING:tensorflow:Learning rate reduction is conditioned on metric `val_acc` which is not available. Available metrics are: loss,accuracy,lr\n",
      "396/396 - 202s - loss: 2.7404 - accuracy: 0.4304 - lr: 0.0010 - 202s/epoch - 509ms/step\n",
      "Epoch 11/50\n",
      "WARNING:tensorflow:Learning rate reduction is conditioned on metric `val_acc` which is not available. Available metrics are: loss,accuracy,lr\n",
      "396/396 - 212s - loss: 2.4207 - accuracy: 0.4646 - lr: 0.0010 - 212s/epoch - 536ms/step\n",
      "Epoch 12/50\n",
      "WARNING:tensorflow:Learning rate reduction is conditioned on metric `val_acc` which is not available. Available metrics are: loss,accuracy,lr\n",
      "396/396 - 214s - loss: 2.1295 - accuracy: 0.5062 - lr: 0.0010 - 214s/epoch - 540ms/step\n",
      "Epoch 13/50\n",
      "WARNING:tensorflow:Learning rate reduction is conditioned on metric `val_acc` which is not available. Available metrics are: loss,accuracy,lr\n",
      "396/396 - 205s - loss: 1.8849 - accuracy: 0.5466 - lr: 0.0010 - 205s/epoch - 519ms/step\n",
      "Epoch 14/50\n",
      "WARNING:tensorflow:Learning rate reduction is conditioned on metric `val_acc` which is not available. Available metrics are: loss,accuracy,lr\n",
      "396/396 - 200s - loss: 1.6528 - accuracy: 0.5856 - lr: 0.0010 - 200s/epoch - 505ms/step\n",
      "Epoch 15/50\n",
      "WARNING:tensorflow:Learning rate reduction is conditioned on metric `val_acc` which is not available. Available metrics are: loss,accuracy,lr\n",
      "396/396 - 209s - loss: 1.4580 - accuracy: 0.6256 - lr: 0.0010 - 209s/epoch - 527ms/step\n",
      "Epoch 16/50\n",
      "WARNING:tensorflow:Learning rate reduction is conditioned on metric `val_acc` which is not available. Available metrics are: loss,accuracy,lr\n",
      "396/396 - 211s - loss: 1.3040 - accuracy: 0.6589 - lr: 0.0010 - 211s/epoch - 534ms/step\n",
      "Epoch 17/50\n",
      "WARNING:tensorflow:Learning rate reduction is conditioned on metric `val_acc` which is not available. Available metrics are: loss,accuracy,lr\n",
      "396/396 - 210s - loss: 1.1670 - accuracy: 0.6835 - lr: 0.0010 - 210s/epoch - 531ms/step\n",
      "Epoch 18/50\n",
      "WARNING:tensorflow:Learning rate reduction is conditioned on metric `val_acc` which is not available. Available metrics are: loss,accuracy,lr\n",
      "396/396 - 209s - loss: 1.0488 - accuracy: 0.7125 - lr: 0.0010 - 209s/epoch - 528ms/step\n",
      "Epoch 19/50\n",
      "WARNING:tensorflow:Learning rate reduction is conditioned on metric `val_acc` which is not available. Available metrics are: loss,accuracy,lr\n",
      "396/396 - 204s - loss: 0.9493 - accuracy: 0.7354 - lr: 0.0010 - 204s/epoch - 516ms/step\n",
      "Epoch 20/50\n",
      "WARNING:tensorflow:Learning rate reduction is conditioned on metric `val_acc` which is not available. Available metrics are: loss,accuracy,lr\n",
      "396/396 - 211s - loss: 0.8796 - accuracy: 0.7520 - lr: 0.0010 - 211s/epoch - 532ms/step\n",
      "Epoch 21/50\n",
      "WARNING:tensorflow:Learning rate reduction is conditioned on metric `val_acc` which is not available. Available metrics are: loss,accuracy,lr\n",
      "396/396 - 196s - loss: 0.7910 - accuracy: 0.7776 - lr: 0.0010 - 196s/epoch - 495ms/step\n",
      "Epoch 22/50\n",
      "WARNING:tensorflow:Learning rate reduction is conditioned on metric `val_acc` which is not available. Available metrics are: loss,accuracy,lr\n",
      "396/396 - 212s - loss: 0.7325 - accuracy: 0.7924 - lr: 0.0010 - 212s/epoch - 536ms/step\n",
      "Epoch 23/50\n",
      "WARNING:tensorflow:Learning rate reduction is conditioned on metric `val_acc` which is not available. Available metrics are: loss,accuracy,lr\n",
      "396/396 - 211s - loss: 0.6753 - accuracy: 0.8047 - lr: 0.0010 - 211s/epoch - 534ms/step\n",
      "Epoch 24/50\n",
      "WARNING:tensorflow:Learning rate reduction is conditioned on metric `val_acc` which is not available. Available metrics are: loss,accuracy,lr\n",
      "396/396 - 191s - loss: 0.6170 - accuracy: 0.8208 - lr: 0.0010 - 191s/epoch - 483ms/step\n",
      "Epoch 25/50\n",
      "WARNING:tensorflow:Learning rate reduction is conditioned on metric `val_acc` which is not available. Available metrics are: loss,accuracy,lr\n",
      "396/396 - 193s - loss: 0.5866 - accuracy: 0.8260 - lr: 0.0010 - 193s/epoch - 487ms/step\n",
      "Epoch 26/50\n",
      "WARNING:tensorflow:Learning rate reduction is conditioned on metric `val_acc` which is not available. Available metrics are: loss,accuracy,lr\n",
      "396/396 - 195s - loss: 0.5499 - accuracy: 0.8345 - lr: 0.0010 - 195s/epoch - 492ms/step\n",
      "Epoch 27/50\n",
      "WARNING:tensorflow:Learning rate reduction is conditioned on metric `val_acc` which is not available. Available metrics are: loss,accuracy,lr\n",
      "396/396 - 203s - loss: 0.5189 - accuracy: 0.8443 - lr: 0.0010 - 203s/epoch - 514ms/step\n",
      "Epoch 28/50\n",
      "WARNING:tensorflow:Learning rate reduction is conditioned on metric `val_acc` which is not available. Available metrics are: loss,accuracy,lr\n",
      "396/396 - 210s - loss: 0.5014 - accuracy: 0.8475 - lr: 0.0010 - 210s/epoch - 531ms/step\n",
      "Epoch 29/50\n",
      "WARNING:tensorflow:Learning rate reduction is conditioned on metric `val_acc` which is not available. Available metrics are: loss,accuracy,lr\n",
      "396/396 - 197s - loss: 0.4600 - accuracy: 0.8594 - lr: 0.0010 - 197s/epoch - 498ms/step\n",
      "Epoch 30/50\n",
      "WARNING:tensorflow:Learning rate reduction is conditioned on metric `val_acc` which is not available. Available metrics are: loss,accuracy,lr\n",
      "396/396 - 191s - loss: 0.4339 - accuracy: 0.8665 - lr: 0.0010 - 191s/epoch - 481ms/step\n",
      "Epoch 31/50\n",
      "WARNING:tensorflow:Learning rate reduction is conditioned on metric `val_acc` which is not available. Available metrics are: loss,accuracy,lr\n",
      "396/396 - 194s - loss: 0.4214 - accuracy: 0.8743 - lr: 0.0010 - 194s/epoch - 491ms/step\n",
      "Epoch 32/50\n",
      "WARNING:tensorflow:Learning rate reduction is conditioned on metric `val_acc` which is not available. Available metrics are: loss,accuracy,lr\n",
      "396/396 - 201s - loss: 0.3964 - accuracy: 0.8800 - lr: 0.0010 - 201s/epoch - 507ms/step\n",
      "Epoch 33/50\n",
      "WARNING:tensorflow:Learning rate reduction is conditioned on metric `val_acc` which is not available. Available metrics are: loss,accuracy,lr\n",
      "396/396 - 218s - loss: 0.3853 - accuracy: 0.8826 - lr: 0.0010 - 218s/epoch - 551ms/step\n",
      "Epoch 34/50\n",
      "WARNING:tensorflow:Learning rate reduction is conditioned on metric `val_acc` which is not available. Available metrics are: loss,accuracy,lr\n",
      "396/396 - 206s - loss: 0.3564 - accuracy: 0.8913 - lr: 0.0010 - 206s/epoch - 520ms/step\n",
      "Epoch 35/50\n",
      "WARNING:tensorflow:Learning rate reduction is conditioned on metric `val_acc` which is not available. Available metrics are: loss,accuracy,lr\n",
      "396/396 - 204s - loss: 0.3514 - accuracy: 0.8931 - lr: 0.0010 - 204s/epoch - 515ms/step\n",
      "Epoch 36/50\n",
      "WARNING:tensorflow:Learning rate reduction is conditioned on metric `val_acc` which is not available. Available metrics are: loss,accuracy,lr\n",
      "396/396 - 197s - loss: 0.3328 - accuracy: 0.8948 - lr: 0.0010 - 197s/epoch - 496ms/step\n",
      "Epoch 37/50\n",
      "WARNING:tensorflow:Learning rate reduction is conditioned on metric `val_acc` which is not available. Available metrics are: loss,accuracy,lr\n",
      "396/396 - 263s - loss: 0.3225 - accuracy: 0.8991 - lr: 0.0010 - 263s/epoch - 664ms/step\n",
      "Epoch 38/50\n",
      "WARNING:tensorflow:Learning rate reduction is conditioned on metric `val_acc` which is not available. Available metrics are: loss,accuracy,lr\n",
      "396/396 - 547s - loss: 0.3105 - accuracy: 0.9036 - lr: 0.0010 - 547s/epoch - 1s/step\n",
      "Epoch 39/50\n",
      "WARNING:tensorflow:Learning rate reduction is conditioned on metric `val_acc` which is not available. Available metrics are: loss,accuracy,lr\n",
      "396/396 - 804s - loss: 0.2994 - accuracy: 0.9058 - lr: 0.0010 - 804s/epoch - 2s/step\n",
      "Epoch 40/50\n",
      "WARNING:tensorflow:Learning rate reduction is conditioned on metric `val_acc` which is not available. Available metrics are: loss,accuracy,lr\n",
      "396/396 - 809s - loss: 0.2972 - accuracy: 0.9081 - lr: 0.0010 - 809s/epoch - 2s/step\n",
      "Epoch 41/50\n",
      "WARNING:tensorflow:Learning rate reduction is conditioned on metric `val_acc` which is not available. Available metrics are: loss,accuracy,lr\n",
      "396/396 - 806s - loss: 0.2731 - accuracy: 0.9142 - lr: 0.0010 - 806s/epoch - 2s/step\n",
      "Epoch 42/50\n",
      "WARNING:tensorflow:Learning rate reduction is conditioned on metric `val_acc` which is not available. Available metrics are: loss,accuracy,lr\n",
      "396/396 - 531s - loss: 0.2825 - accuracy: 0.9146 - lr: 0.0010 - 531s/epoch - 1s/step\n",
      "Epoch 43/50\n",
      "WARNING:tensorflow:Learning rate reduction is conditioned on metric `val_acc` which is not available. Available metrics are: loss,accuracy,lr\n",
      "396/396 - 190s - loss: 0.2655 - accuracy: 0.9171 - lr: 0.0010 - 190s/epoch - 480ms/step\n",
      "Epoch 44/50\n",
      "WARNING:tensorflow:Learning rate reduction is conditioned on metric `val_acc` which is not available. Available metrics are: loss,accuracy,lr\n",
      "396/396 - 190s - loss: 0.2593 - accuracy: 0.9173 - lr: 0.0010 - 190s/epoch - 480ms/step\n",
      "Epoch 45/50\n",
      "WARNING:tensorflow:Learning rate reduction is conditioned on metric `val_acc` which is not available. Available metrics are: loss,accuracy,lr\n",
      "396/396 - 190s - loss: 0.2404 - accuracy: 0.9238 - lr: 0.0010 - 190s/epoch - 481ms/step\n",
      "Epoch 46/50\n",
      "WARNING:tensorflow:Learning rate reduction is conditioned on metric `val_acc` which is not available. Available metrics are: loss,accuracy,lr\n",
      "396/396 - 193s - loss: 0.2493 - accuracy: 0.9227 - lr: 0.0010 - 193s/epoch - 488ms/step\n",
      "Epoch 47/50\n",
      "WARNING:tensorflow:Learning rate reduction is conditioned on metric `val_acc` which is not available. Available metrics are: loss,accuracy,lr\n",
      "396/396 - 189s - loss: 0.2368 - accuracy: 0.9265 - lr: 0.0010 - 189s/epoch - 478ms/step\n",
      "Epoch 48/50\n",
      "WARNING:tensorflow:Learning rate reduction is conditioned on metric `val_acc` which is not available. Available metrics are: loss,accuracy,lr\n",
      "396/396 - 189s - loss: 0.2274 - accuracy: 0.9280 - lr: 0.0010 - 189s/epoch - 478ms/step\n",
      "Epoch 49/50\n",
      "WARNING:tensorflow:Learning rate reduction is conditioned on metric `val_acc` which is not available. Available metrics are: loss,accuracy,lr\n",
      "396/396 - 189s - loss: 0.2208 - accuracy: 0.9310 - lr: 0.0010 - 189s/epoch - 478ms/step\n",
      "Epoch 50/50\n",
      "WARNING:tensorflow:Learning rate reduction is conditioned on metric `val_acc` which is not available. Available metrics are: loss,accuracy,lr\n",
      "396/396 - 189s - loss: 0.2719 - accuracy: 0.9177 - lr: 0.0010 - 189s/epoch - 476ms/step\n"
     ]
    }
   ],
   "source": [
    "history = model.fit_generator(datagen.flow(x_train, y_train, batch_size=batch_size),\n",
    "                              epochs=50, verbose = 2, \n",
    "                              steps_per_epoch=x_train.shape[0] // batch_size,\n",
    "                              callbacks=[learning_rate_reduction]) "
   ]
  },
  {
   "cell_type": "code",
   "execution_count": 29,
   "id": "792e789f",
   "metadata": {},
   "outputs": [
    {
     "data": {
      "image/png": "[encoded data removed]",
      "text/plain": [
       "<Figure size 432x288 with 1 Axes>"
      ]
     },
     "metadata": {
      "needs_background": "light"
     },
     "output_type": "display_data"
    }
   ],
   "source": [
    "# Plot the loss curve for training\n",
    "plt.plot(history.history['loss'], color='r', label=\"Train Loss\")\n",
    "plt.title(\"Train Loss\")\n",
    "plt.xlabel(\"Number of Epochs\")\n",
    "plt.ylabel(\"Loss\")\n",
    "plt.legend()\n",
    "plt.show()"
   ]
  },
  {
   "cell_type": "code",
   "execution_count": 31,
   "id": "8effe5d0",
   "metadata": {},
   "outputs": [
    {
     "data": {
      "image/png": "[encoded data removed]",
      "text/plain": [
       "<Figure size 432x288 with 1 Axes>"
      ]
     },
     "metadata": {
      "needs_background": "light"
     },
     "output_type": "display_data"
    }
   ],
   "source": [
    "# Plot the accuracy curve for training\n",
    "plt.plot(history.history['accuracy'], color='g', label=\"Train Accuracy\")\n",
    "plt.title(\"Train Accuracy\")\n",
    "plt.xlabel(\"Number of Epochs\")\n",
    "plt.ylabel(\"Accuracy\")\n",
    "plt.legend()\n",
    "plt.show()"
   ]
  },
  {
   "cell_type": "code",
   "execution_count": 34,
   "id": "e6283661",
   "metadata": {},
   "outputs": [
    {
     "name": "stdout",
     "output_type": "stream",
     "text": [
      "Train accuracy of the model:  0.9176582098007202\n"
     ]
    }
   ],
   "source": [
    "print('Train accuracy of the model: ',history.history['accuracy'][-1])\n"
   ]
  },
  {
   "cell_type": "code",
   "execution_count": 33,
   "id": "29936e2b",
   "metadata": {},
   "outputs": [
    {
     "name": "stdout",
     "output_type": "stream",
     "text": [
      "Train loss of the model:  0.2719210684299469\n"
     ]
    }
   ],
   "source": [
    "print('Train loss of the model: ',history.history['loss'][-1])\n"
   ]
  },
  {
   "cell_type": "code",
   "execution_count": null,
   "id": "1901b993",
   "metadata": {},
   "outputs": [],
   "source": []
  }
 ],
 "metadata": {
  "kernelspec": {
   "display_name": "Python 3 (ipykernel)",
   "language": "python",
   "name": "python3"
  },
  "language_info": {
   "codemirror_mode": {
    "name": "ipython",
    "version": 3
   },
   "file_extension": ".py",
   "mimetype": "text/x-python",
   "name": "python",
   "nbconvert_exporter": "python",
   "pygments_lexer": "ipython3",
   "version": "3.9.12"
  }
 },
 "nbformat": 4,
 "nbformat_minor": 5
}
